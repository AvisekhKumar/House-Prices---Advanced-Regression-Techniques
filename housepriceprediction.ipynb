{
 "cells": [
  {
   "cell_type": "markdown",
   "id": "special-vegetarian",
   "metadata": {
    "_cell_guid": "b1076dfc-b9ad-4769-8c92-a6c4dae69d19",
    "_uuid": "8f2839f25d086af736a60e9eeb907d3b93b6e0e5",
    "papermill": {
     "duration": 0.023223,
     "end_time": "2021-06-09T14:28:05.519819",
     "exception": false,
     "start_time": "2021-06-09T14:28:05.496596",
     "status": "completed"
    },
    "tags": []
   },
   "source": [
    "# ------ House Price Prediction ------"
   ]
  },
  {
   "cell_type": "code",
   "execution_count": 1,
   "id": "curious-mistress",
   "metadata": {
    "execution": {
     "iopub.execute_input": "2021-06-09T14:28:05.569297Z",
     "iopub.status.busy": "2021-06-09T14:28:05.568108Z",
     "iopub.status.idle": "2021-06-09T14:28:06.448827Z",
     "shell.execute_reply": "2021-06-09T14:28:06.448010Z",
     "shell.execute_reply.started": "2021-06-09T14:14:46.776488Z"
    },
    "papermill": {
     "duration": 0.906565,
     "end_time": "2021-06-09T14:28:06.448994",
     "exception": false,
     "start_time": "2021-06-09T14:28:05.542429",
     "status": "completed"
    },
    "tags": []
   },
   "outputs": [],
   "source": [
    "#Importing required libraries\n",
    "import numpy as np\n",
    "import pandas as pd\n",
    "import matplotlib.pyplot as plt\n",
    "import seaborn as sns\n",
    "%matplotlib inline\n",
    "\n",
    "pd.pandas.set_option('display.max_columns', None)"
   ]
  },
  {
   "cell_type": "code",
   "execution_count": 2,
   "id": "animated-package",
   "metadata": {
    "execution": {
     "iopub.execute_input": "2021-06-09T14:28:06.498950Z",
     "iopub.status.busy": "2021-06-09T14:28:06.498122Z",
     "iopub.status.idle": "2021-06-09T14:28:06.578836Z",
     "shell.execute_reply": "2021-06-09T14:28:06.578286Z",
     "shell.execute_reply.started": "2021-06-09T14:14:46.785951Z"
    },
    "papermill": {
     "duration": 0.107458,
     "end_time": "2021-06-09T14:28:06.578971",
     "exception": false,
     "start_time": "2021-06-09T14:28:06.471513",
     "status": "completed"
    },
    "tags": []
   },
   "outputs": [],
   "source": [
    "#Importing datasets\n",
    "data = pd.read_csv('../input/house-prices-advanced-regression-techniques/train.csv')\n",
    "test = pd.read_csv('../input/house-prices-advanced-regression-techniques/test.csv')"
   ]
  },
  {
   "cell_type": "markdown",
   "id": "appropriate-storm",
   "metadata": {
    "papermill": {
     "duration": 0.021871,
     "end_time": "2021-06-09T14:28:06.623164",
     "exception": false,
     "start_time": "2021-06-09T14:28:06.601293",
     "status": "completed"
    },
    "tags": []
   },
   "source": [
    "I'll perform the following tasks\n",
    "- Data Analysis\n",
    "- Feature Engineering\n",
    "- Feature Selection\n",
    "- Model Building"
   ]
  },
  {
   "cell_type": "markdown",
   "id": "figured-spine",
   "metadata": {
    "execution": {
     "iopub.execute_input": "2021-06-09T08:09:04.003786Z",
     "iopub.status.busy": "2021-06-09T08:09:04.003401Z",
     "iopub.status.idle": "2021-06-09T08:09:04.008208Z",
     "shell.execute_reply": "2021-06-09T08:09:04.007185Z",
     "shell.execute_reply.started": "2021-06-09T08:09:04.003754Z"
    },
    "papermill": {
     "duration": 0.021689,
     "end_time": "2021-06-09T14:28:06.667170",
     "exception": false,
     "start_time": "2021-06-09T14:28:06.645481",
     "status": "completed"
    },
    "tags": []
   },
   "source": [
    "***\n",
    "## *** DATA ANALYSIS ***\n",
    "***"
   ]
  },
  {
   "cell_type": "code",
   "execution_count": 3,
   "id": "sublime-regression",
   "metadata": {
    "execution": {
     "iopub.execute_input": "2021-06-09T14:28:06.776594Z",
     "iopub.status.busy": "2021-06-09T14:28:06.775471Z",
     "iopub.status.idle": "2021-06-09T14:28:06.793144Z",
     "shell.execute_reply": "2021-06-09T14:28:06.792337Z",
     "shell.execute_reply.started": "2021-06-09T14:14:46.861702Z"
    },
    "papermill": {
     "duration": 0.10406,
     "end_time": "2021-06-09T14:28:06.793394",
     "exception": false,
     "start_time": "2021-06-09T14:28:06.689334",
     "status": "completed"
    },
    "tags": []
   },
   "outputs": [
    {
     "name": "stdout",
     "output_type": "stream",
     "text": [
      "LotFrontage 0.1774 % missing values\n",
      "Alley 0.9377 % missing values\n",
      "MasVnrType 0.0055 % missing values\n",
      "MasVnrArea 0.0055 % missing values\n",
      "BsmtQual 0.0253 % missing values\n",
      "BsmtCond 0.0253 % missing values\n",
      "BsmtExposure 0.026 % missing values\n",
      "BsmtFinType1 0.0253 % missing values\n",
      "BsmtFinType2 0.026 % missing values\n",
      "FireplaceQu 0.4726 % missing values\n",
      "GarageType 0.0555 % missing values\n",
      "GarageYrBlt 0.0555 % missing values\n",
      "GarageFinish 0.0555 % missing values\n",
      "GarageQual 0.0555 % missing values\n",
      "GarageCond 0.0555 % missing values\n",
      "PoolQC 0.9952 % missing values\n",
      "Fence 0.8075 % missing values\n",
      "MiscFeature 0.963 % missing values\n"
     ]
    }
   ],
   "source": [
    "#Missing values\n",
    "features_nan = [ feature for feature in data.columns if data[feature].isnull().sum() > 1 ]\n",
    "features_nan_test = [ feature for feature in test.columns if test[feature].isnull().sum() > 1 ]\n",
    "\n",
    "\n",
    "#percentage of nan values\n",
    "for feature in features_nan:\n",
    "    print(feature, np.round(data[feature].isnull().mean(), 4), '% missing values')"
   ]
  },
  {
   "cell_type": "code",
   "execution_count": 4,
   "id": "irish-thanks",
   "metadata": {
    "execution": {
     "iopub.execute_input": "2021-06-09T14:28:06.851252Z",
     "iopub.status.busy": "2021-06-09T14:28:06.850574Z",
     "iopub.status.idle": "2021-06-09T14:28:06.885643Z",
     "shell.execute_reply": "2021-06-09T14:28:06.886151Z",
     "shell.execute_reply.started": "2021-06-09T14:14:46.940423Z"
    },
    "papermill": {
     "duration": 0.069656,
     "end_time": "2021-06-09T14:28:06.886395",
     "exception": false,
     "start_time": "2021-06-09T14:28:06.816739",
     "status": "completed"
    },
    "tags": []
   },
   "outputs": [
    {
     "name": "stdout",
     "output_type": "stream",
     "text": [
      "Total numerical features :  38\n"
     ]
    },
    {
     "data": {
      "text/html": [
       "<div>\n",
       "<style scoped>\n",
       "    .dataframe tbody tr th:only-of-type {\n",
       "        vertical-align: middle;\n",
       "    }\n",
       "\n",
       "    .dataframe tbody tr th {\n",
       "        vertical-align: top;\n",
       "    }\n",
       "\n",
       "    .dataframe thead th {\n",
       "        text-align: right;\n",
       "    }\n",
       "</style>\n",
       "<table border=\"1\" class=\"dataframe\">\n",
       "  <thead>\n",
       "    <tr style=\"text-align: right;\">\n",
       "      <th></th>\n",
       "      <th>Id</th>\n",
       "      <th>MSSubClass</th>\n",
       "      <th>LotFrontage</th>\n",
       "      <th>LotArea</th>\n",
       "      <th>OverallQual</th>\n",
       "      <th>OverallCond</th>\n",
       "      <th>YearBuilt</th>\n",
       "      <th>YearRemodAdd</th>\n",
       "      <th>MasVnrArea</th>\n",
       "      <th>BsmtFinSF1</th>\n",
       "      <th>BsmtFinSF2</th>\n",
       "      <th>BsmtUnfSF</th>\n",
       "      <th>TotalBsmtSF</th>\n",
       "      <th>1stFlrSF</th>\n",
       "      <th>2ndFlrSF</th>\n",
       "      <th>LowQualFinSF</th>\n",
       "      <th>GrLivArea</th>\n",
       "      <th>BsmtFullBath</th>\n",
       "      <th>BsmtHalfBath</th>\n",
       "      <th>FullBath</th>\n",
       "      <th>HalfBath</th>\n",
       "      <th>BedroomAbvGr</th>\n",
       "      <th>KitchenAbvGr</th>\n",
       "      <th>TotRmsAbvGrd</th>\n",
       "      <th>Fireplaces</th>\n",
       "      <th>GarageYrBlt</th>\n",
       "      <th>GarageCars</th>\n",
       "      <th>GarageArea</th>\n",
       "      <th>WoodDeckSF</th>\n",
       "      <th>OpenPorchSF</th>\n",
       "      <th>EnclosedPorch</th>\n",
       "      <th>3SsnPorch</th>\n",
       "      <th>ScreenPorch</th>\n",
       "      <th>PoolArea</th>\n",
       "      <th>MiscVal</th>\n",
       "      <th>MoSold</th>\n",
       "      <th>YrSold</th>\n",
       "      <th>SalePrice</th>\n",
       "    </tr>\n",
       "  </thead>\n",
       "  <tbody>\n",
       "    <tr>\n",
       "      <th>0</th>\n",
       "      <td>1</td>\n",
       "      <td>60</td>\n",
       "      <td>65.0</td>\n",
       "      <td>8450</td>\n",
       "      <td>7</td>\n",
       "      <td>5</td>\n",
       "      <td>2003</td>\n",
       "      <td>2003</td>\n",
       "      <td>196.0</td>\n",
       "      <td>706</td>\n",
       "      <td>0</td>\n",
       "      <td>150</td>\n",
       "      <td>856</td>\n",
       "      <td>856</td>\n",
       "      <td>854</td>\n",
       "      <td>0</td>\n",
       "      <td>1710</td>\n",
       "      <td>1</td>\n",
       "      <td>0</td>\n",
       "      <td>2</td>\n",
       "      <td>1</td>\n",
       "      <td>3</td>\n",
       "      <td>1</td>\n",
       "      <td>8</td>\n",
       "      <td>0</td>\n",
       "      <td>2003.0</td>\n",
       "      <td>2</td>\n",
       "      <td>548</td>\n",
       "      <td>0</td>\n",
       "      <td>61</td>\n",
       "      <td>0</td>\n",
       "      <td>0</td>\n",
       "      <td>0</td>\n",
       "      <td>0</td>\n",
       "      <td>0</td>\n",
       "      <td>2</td>\n",
       "      <td>2008</td>\n",
       "      <td>208500</td>\n",
       "    </tr>\n",
       "    <tr>\n",
       "      <th>1</th>\n",
       "      <td>2</td>\n",
       "      <td>20</td>\n",
       "      <td>80.0</td>\n",
       "      <td>9600</td>\n",
       "      <td>6</td>\n",
       "      <td>8</td>\n",
       "      <td>1976</td>\n",
       "      <td>1976</td>\n",
       "      <td>0.0</td>\n",
       "      <td>978</td>\n",
       "      <td>0</td>\n",
       "      <td>284</td>\n",
       "      <td>1262</td>\n",
       "      <td>1262</td>\n",
       "      <td>0</td>\n",
       "      <td>0</td>\n",
       "      <td>1262</td>\n",
       "      <td>0</td>\n",
       "      <td>1</td>\n",
       "      <td>2</td>\n",
       "      <td>0</td>\n",
       "      <td>3</td>\n",
       "      <td>1</td>\n",
       "      <td>6</td>\n",
       "      <td>1</td>\n",
       "      <td>1976.0</td>\n",
       "      <td>2</td>\n",
       "      <td>460</td>\n",
       "      <td>298</td>\n",
       "      <td>0</td>\n",
       "      <td>0</td>\n",
       "      <td>0</td>\n",
       "      <td>0</td>\n",
       "      <td>0</td>\n",
       "      <td>0</td>\n",
       "      <td>5</td>\n",
       "      <td>2007</td>\n",
       "      <td>181500</td>\n",
       "    </tr>\n",
       "    <tr>\n",
       "      <th>2</th>\n",
       "      <td>3</td>\n",
       "      <td>60</td>\n",
       "      <td>68.0</td>\n",
       "      <td>11250</td>\n",
       "      <td>7</td>\n",
       "      <td>5</td>\n",
       "      <td>2001</td>\n",
       "      <td>2002</td>\n",
       "      <td>162.0</td>\n",
       "      <td>486</td>\n",
       "      <td>0</td>\n",
       "      <td>434</td>\n",
       "      <td>920</td>\n",
       "      <td>920</td>\n",
       "      <td>866</td>\n",
       "      <td>0</td>\n",
       "      <td>1786</td>\n",
       "      <td>1</td>\n",
       "      <td>0</td>\n",
       "      <td>2</td>\n",
       "      <td>1</td>\n",
       "      <td>3</td>\n",
       "      <td>1</td>\n",
       "      <td>6</td>\n",
       "      <td>1</td>\n",
       "      <td>2001.0</td>\n",
       "      <td>2</td>\n",
       "      <td>608</td>\n",
       "      <td>0</td>\n",
       "      <td>42</td>\n",
       "      <td>0</td>\n",
       "      <td>0</td>\n",
       "      <td>0</td>\n",
       "      <td>0</td>\n",
       "      <td>0</td>\n",
       "      <td>9</td>\n",
       "      <td>2008</td>\n",
       "      <td>223500</td>\n",
       "    </tr>\n",
       "    <tr>\n",
       "      <th>3</th>\n",
       "      <td>4</td>\n",
       "      <td>70</td>\n",
       "      <td>60.0</td>\n",
       "      <td>9550</td>\n",
       "      <td>7</td>\n",
       "      <td>5</td>\n",
       "      <td>1915</td>\n",
       "      <td>1970</td>\n",
       "      <td>0.0</td>\n",
       "      <td>216</td>\n",
       "      <td>0</td>\n",
       "      <td>540</td>\n",
       "      <td>756</td>\n",
       "      <td>961</td>\n",
       "      <td>756</td>\n",
       "      <td>0</td>\n",
       "      <td>1717</td>\n",
       "      <td>1</td>\n",
       "      <td>0</td>\n",
       "      <td>1</td>\n",
       "      <td>0</td>\n",
       "      <td>3</td>\n",
       "      <td>1</td>\n",
       "      <td>7</td>\n",
       "      <td>1</td>\n",
       "      <td>1998.0</td>\n",
       "      <td>3</td>\n",
       "      <td>642</td>\n",
       "      <td>0</td>\n",
       "      <td>35</td>\n",
       "      <td>272</td>\n",
       "      <td>0</td>\n",
       "      <td>0</td>\n",
       "      <td>0</td>\n",
       "      <td>0</td>\n",
       "      <td>2</td>\n",
       "      <td>2006</td>\n",
       "      <td>140000</td>\n",
       "    </tr>\n",
       "    <tr>\n",
       "      <th>4</th>\n",
       "      <td>5</td>\n",
       "      <td>60</td>\n",
       "      <td>84.0</td>\n",
       "      <td>14260</td>\n",
       "      <td>8</td>\n",
       "      <td>5</td>\n",
       "      <td>2000</td>\n",
       "      <td>2000</td>\n",
       "      <td>350.0</td>\n",
       "      <td>655</td>\n",
       "      <td>0</td>\n",
       "      <td>490</td>\n",
       "      <td>1145</td>\n",
       "      <td>1145</td>\n",
       "      <td>1053</td>\n",
       "      <td>0</td>\n",
       "      <td>2198</td>\n",
       "      <td>1</td>\n",
       "      <td>0</td>\n",
       "      <td>2</td>\n",
       "      <td>1</td>\n",
       "      <td>4</td>\n",
       "      <td>1</td>\n",
       "      <td>9</td>\n",
       "      <td>1</td>\n",
       "      <td>2000.0</td>\n",
       "      <td>3</td>\n",
       "      <td>836</td>\n",
       "      <td>192</td>\n",
       "      <td>84</td>\n",
       "      <td>0</td>\n",
       "      <td>0</td>\n",
       "      <td>0</td>\n",
       "      <td>0</td>\n",
       "      <td>0</td>\n",
       "      <td>12</td>\n",
       "      <td>2008</td>\n",
       "      <td>250000</td>\n",
       "    </tr>\n",
       "  </tbody>\n",
       "</table>\n",
       "</div>"
      ],
      "text/plain": [
       "   Id  MSSubClass  LotFrontage  LotArea  OverallQual  OverallCond  YearBuilt  \\\n",
       "0   1          60         65.0     8450            7            5       2003   \n",
       "1   2          20         80.0     9600            6            8       1976   \n",
       "2   3          60         68.0    11250            7            5       2001   \n",
       "3   4          70         60.0     9550            7            5       1915   \n",
       "4   5          60         84.0    14260            8            5       2000   \n",
       "\n",
       "   YearRemodAdd  MasVnrArea  BsmtFinSF1  BsmtFinSF2  BsmtUnfSF  TotalBsmtSF  \\\n",
       "0          2003       196.0         706           0        150          856   \n",
       "1          1976         0.0         978           0        284         1262   \n",
       "2          2002       162.0         486           0        434          920   \n",
       "3          1970         0.0         216           0        540          756   \n",
       "4          2000       350.0         655           0        490         1145   \n",
       "\n",
       "   1stFlrSF  2ndFlrSF  LowQualFinSF  GrLivArea  BsmtFullBath  BsmtHalfBath  \\\n",
       "0       856       854             0       1710             1             0   \n",
       "1      1262         0             0       1262             0             1   \n",
       "2       920       866             0       1786             1             0   \n",
       "3       961       756             0       1717             1             0   \n",
       "4      1145      1053             0       2198             1             0   \n",
       "\n",
       "   FullBath  HalfBath  BedroomAbvGr  KitchenAbvGr  TotRmsAbvGrd  Fireplaces  \\\n",
       "0         2         1             3             1             8           0   \n",
       "1         2         0             3             1             6           1   \n",
       "2         2         1             3             1             6           1   \n",
       "3         1         0             3             1             7           1   \n",
       "4         2         1             4             1             9           1   \n",
       "\n",
       "   GarageYrBlt  GarageCars  GarageArea  WoodDeckSF  OpenPorchSF  \\\n",
       "0       2003.0           2         548           0           61   \n",
       "1       1976.0           2         460         298            0   \n",
       "2       2001.0           2         608           0           42   \n",
       "3       1998.0           3         642           0           35   \n",
       "4       2000.0           3         836         192           84   \n",
       "\n",
       "   EnclosedPorch  3SsnPorch  ScreenPorch  PoolArea  MiscVal  MoSold  YrSold  \\\n",
       "0              0          0            0         0        0       2    2008   \n",
       "1              0          0            0         0        0       5    2007   \n",
       "2              0          0            0         0        0       9    2008   \n",
       "3            272          0            0         0        0       2    2006   \n",
       "4              0          0            0         0        0      12    2008   \n",
       "\n",
       "   SalePrice  \n",
       "0     208500  \n",
       "1     181500  \n",
       "2     223500  \n",
       "3     140000  \n",
       "4     250000  "
      ]
     },
     "execution_count": 4,
     "metadata": {},
     "output_type": "execute_result"
    }
   ],
   "source": [
    "#List of Numerical features\n",
    "numerical_features = [feature for feature in data.columns if data[feature].dtypes != 'O']\n",
    "print('Total numerical features : ', len(numerical_features))\n",
    "data[numerical_features].head()"
   ]
  },
  {
   "cell_type": "code",
   "execution_count": 5,
   "id": "earned-visibility",
   "metadata": {
    "execution": {
     "iopub.execute_input": "2021-06-09T14:28:06.937471Z",
     "iopub.status.busy": "2021-06-09T14:28:06.936867Z",
     "iopub.status.idle": "2021-06-09T14:28:06.941988Z",
     "shell.execute_reply": "2021-06-09T14:28:06.942569Z",
     "shell.execute_reply.started": "2021-06-09T14:14:46.97927Z"
    },
    "papermill": {
     "duration": 0.032347,
     "end_time": "2021-06-09T14:28:06.942766",
     "exception": false,
     "start_time": "2021-06-09T14:28:06.910419",
     "status": "completed"
    },
    "tags": []
   },
   "outputs": [
    {
     "data": {
      "text/plain": [
       "['YearBuilt', 'YearRemodAdd', 'GarageYrBlt', 'YrSold']"
      ]
     },
     "execution_count": 5,
     "metadata": {},
     "output_type": "execute_result"
    }
   ],
   "source": [
    "# list of Tmporal features\n",
    "year_feature = [feature for feature in numerical_features if 'Yr' in feature or 'Year' in feature]\n",
    "year_feature"
   ]
  },
  {
   "cell_type": "code",
   "execution_count": 6,
   "id": "knowing-saying",
   "metadata": {
    "execution": {
     "iopub.execute_input": "2021-06-09T14:28:06.995434Z",
     "iopub.status.busy": "2021-06-09T14:28:06.994774Z",
     "iopub.status.idle": "2021-06-09T14:28:07.025321Z",
     "shell.execute_reply": "2021-06-09T14:28:07.025788Z",
     "shell.execute_reply.started": "2021-06-09T14:14:46.988504Z"
    },
    "papermill": {
     "duration": 0.058864,
     "end_time": "2021-06-09T14:28:07.025962",
     "exception": false,
     "start_time": "2021-06-09T14:28:06.967098",
     "status": "completed"
    },
    "tags": []
   },
   "outputs": [
    {
     "name": "stdout",
     "output_type": "stream",
     "text": [
      "Total discrete variables :  17\n"
     ]
    },
    {
     "data": {
      "text/html": [
       "<div>\n",
       "<style scoped>\n",
       "    .dataframe tbody tr th:only-of-type {\n",
       "        vertical-align: middle;\n",
       "    }\n",
       "\n",
       "    .dataframe tbody tr th {\n",
       "        vertical-align: top;\n",
       "    }\n",
       "\n",
       "    .dataframe thead th {\n",
       "        text-align: right;\n",
       "    }\n",
       "</style>\n",
       "<table border=\"1\" class=\"dataframe\">\n",
       "  <thead>\n",
       "    <tr style=\"text-align: right;\">\n",
       "      <th></th>\n",
       "      <th>MSSubClass</th>\n",
       "      <th>OverallQual</th>\n",
       "      <th>OverallCond</th>\n",
       "      <th>LowQualFinSF</th>\n",
       "      <th>BsmtFullBath</th>\n",
       "      <th>BsmtHalfBath</th>\n",
       "      <th>FullBath</th>\n",
       "      <th>HalfBath</th>\n",
       "      <th>BedroomAbvGr</th>\n",
       "      <th>KitchenAbvGr</th>\n",
       "      <th>TotRmsAbvGrd</th>\n",
       "      <th>Fireplaces</th>\n",
       "      <th>GarageCars</th>\n",
       "      <th>3SsnPorch</th>\n",
       "      <th>PoolArea</th>\n",
       "      <th>MiscVal</th>\n",
       "      <th>MoSold</th>\n",
       "    </tr>\n",
       "  </thead>\n",
       "  <tbody>\n",
       "    <tr>\n",
       "      <th>0</th>\n",
       "      <td>60</td>\n",
       "      <td>7</td>\n",
       "      <td>5</td>\n",
       "      <td>0</td>\n",
       "      <td>1</td>\n",
       "      <td>0</td>\n",
       "      <td>2</td>\n",
       "      <td>1</td>\n",
       "      <td>3</td>\n",
       "      <td>1</td>\n",
       "      <td>8</td>\n",
       "      <td>0</td>\n",
       "      <td>2</td>\n",
       "      <td>0</td>\n",
       "      <td>0</td>\n",
       "      <td>0</td>\n",
       "      <td>2</td>\n",
       "    </tr>\n",
       "    <tr>\n",
       "      <th>1</th>\n",
       "      <td>20</td>\n",
       "      <td>6</td>\n",
       "      <td>8</td>\n",
       "      <td>0</td>\n",
       "      <td>0</td>\n",
       "      <td>1</td>\n",
       "      <td>2</td>\n",
       "      <td>0</td>\n",
       "      <td>3</td>\n",
       "      <td>1</td>\n",
       "      <td>6</td>\n",
       "      <td>1</td>\n",
       "      <td>2</td>\n",
       "      <td>0</td>\n",
       "      <td>0</td>\n",
       "      <td>0</td>\n",
       "      <td>5</td>\n",
       "    </tr>\n",
       "    <tr>\n",
       "      <th>2</th>\n",
       "      <td>60</td>\n",
       "      <td>7</td>\n",
       "      <td>5</td>\n",
       "      <td>0</td>\n",
       "      <td>1</td>\n",
       "      <td>0</td>\n",
       "      <td>2</td>\n",
       "      <td>1</td>\n",
       "      <td>3</td>\n",
       "      <td>1</td>\n",
       "      <td>6</td>\n",
       "      <td>1</td>\n",
       "      <td>2</td>\n",
       "      <td>0</td>\n",
       "      <td>0</td>\n",
       "      <td>0</td>\n",
       "      <td>9</td>\n",
       "    </tr>\n",
       "    <tr>\n",
       "      <th>3</th>\n",
       "      <td>70</td>\n",
       "      <td>7</td>\n",
       "      <td>5</td>\n",
       "      <td>0</td>\n",
       "      <td>1</td>\n",
       "      <td>0</td>\n",
       "      <td>1</td>\n",
       "      <td>0</td>\n",
       "      <td>3</td>\n",
       "      <td>1</td>\n",
       "      <td>7</td>\n",
       "      <td>1</td>\n",
       "      <td>3</td>\n",
       "      <td>0</td>\n",
       "      <td>0</td>\n",
       "      <td>0</td>\n",
       "      <td>2</td>\n",
       "    </tr>\n",
       "    <tr>\n",
       "      <th>4</th>\n",
       "      <td>60</td>\n",
       "      <td>8</td>\n",
       "      <td>5</td>\n",
       "      <td>0</td>\n",
       "      <td>1</td>\n",
       "      <td>0</td>\n",
       "      <td>2</td>\n",
       "      <td>1</td>\n",
       "      <td>4</td>\n",
       "      <td>1</td>\n",
       "      <td>9</td>\n",
       "      <td>1</td>\n",
       "      <td>3</td>\n",
       "      <td>0</td>\n",
       "      <td>0</td>\n",
       "      <td>0</td>\n",
       "      <td>12</td>\n",
       "    </tr>\n",
       "  </tbody>\n",
       "</table>\n",
       "</div>"
      ],
      "text/plain": [
       "   MSSubClass  OverallQual  OverallCond  LowQualFinSF  BsmtFullBath  \\\n",
       "0          60            7            5             0             1   \n",
       "1          20            6            8             0             0   \n",
       "2          60            7            5             0             1   \n",
       "3          70            7            5             0             1   \n",
       "4          60            8            5             0             1   \n",
       "\n",
       "   BsmtHalfBath  FullBath  HalfBath  BedroomAbvGr  KitchenAbvGr  TotRmsAbvGrd  \\\n",
       "0             0         2         1             3             1             8   \n",
       "1             1         2         0             3             1             6   \n",
       "2             0         2         1             3             1             6   \n",
       "3             0         1         0             3             1             7   \n",
       "4             0         2         1             4             1             9   \n",
       "\n",
       "   Fireplaces  GarageCars  3SsnPorch  PoolArea  MiscVal  MoSold  \n",
       "0           0           2          0         0        0       2  \n",
       "1           1           2          0         0        0       5  \n",
       "2           1           2          0         0        0       9  \n",
       "3           1           3          0         0        0       2  \n",
       "4           1           3          0         0        0      12  "
      ]
     },
     "execution_count": 6,
     "metadata": {},
     "output_type": "execute_result"
    }
   ],
   "source": [
    "#List of variables that contain Discrete values\n",
    "discrete_features=[feature for feature in numerical_features if data[feature].nunique()<25 and feature not in year_feature+['Id']]\n",
    "print(\"Total discrete variables : \", len(discrete_features))\n",
    "data[discrete_features].head()"
   ]
  },
  {
   "cell_type": "code",
   "execution_count": 7,
   "id": "unlikely-boulder",
   "metadata": {
    "execution": {
     "iopub.execute_input": "2021-06-09T14:28:07.082713Z",
     "iopub.status.busy": "2021-06-09T14:28:07.082038Z",
     "iopub.status.idle": "2021-06-09T14:28:07.108163Z",
     "shell.execute_reply": "2021-06-09T14:28:07.108692Z",
     "shell.execute_reply.started": "2021-06-09T14:14:47.027004Z"
    },
    "papermill": {
     "duration": 0.057449,
     "end_time": "2021-06-09T14:28:07.108861",
     "exception": false,
     "start_time": "2021-06-09T14:28:07.051412",
     "status": "completed"
    },
    "tags": []
   },
   "outputs": [
    {
     "name": "stdout",
     "output_type": "stream",
     "text": [
      "Total continuous variables :  16\n"
     ]
    },
    {
     "data": {
      "text/html": [
       "<div>\n",
       "<style scoped>\n",
       "    .dataframe tbody tr th:only-of-type {\n",
       "        vertical-align: middle;\n",
       "    }\n",
       "\n",
       "    .dataframe tbody tr th {\n",
       "        vertical-align: top;\n",
       "    }\n",
       "\n",
       "    .dataframe thead th {\n",
       "        text-align: right;\n",
       "    }\n",
       "</style>\n",
       "<table border=\"1\" class=\"dataframe\">\n",
       "  <thead>\n",
       "    <tr style=\"text-align: right;\">\n",
       "      <th></th>\n",
       "      <th>LotFrontage</th>\n",
       "      <th>LotArea</th>\n",
       "      <th>MasVnrArea</th>\n",
       "      <th>BsmtFinSF1</th>\n",
       "      <th>BsmtFinSF2</th>\n",
       "      <th>BsmtUnfSF</th>\n",
       "      <th>TotalBsmtSF</th>\n",
       "      <th>1stFlrSF</th>\n",
       "      <th>2ndFlrSF</th>\n",
       "      <th>GrLivArea</th>\n",
       "      <th>GarageArea</th>\n",
       "      <th>WoodDeckSF</th>\n",
       "      <th>OpenPorchSF</th>\n",
       "      <th>EnclosedPorch</th>\n",
       "      <th>ScreenPorch</th>\n",
       "      <th>SalePrice</th>\n",
       "    </tr>\n",
       "  </thead>\n",
       "  <tbody>\n",
       "    <tr>\n",
       "      <th>0</th>\n",
       "      <td>65.0</td>\n",
       "      <td>8450</td>\n",
       "      <td>196.0</td>\n",
       "      <td>706</td>\n",
       "      <td>0</td>\n",
       "      <td>150</td>\n",
       "      <td>856</td>\n",
       "      <td>856</td>\n",
       "      <td>854</td>\n",
       "      <td>1710</td>\n",
       "      <td>548</td>\n",
       "      <td>0</td>\n",
       "      <td>61</td>\n",
       "      <td>0</td>\n",
       "      <td>0</td>\n",
       "      <td>208500</td>\n",
       "    </tr>\n",
       "    <tr>\n",
       "      <th>1</th>\n",
       "      <td>80.0</td>\n",
       "      <td>9600</td>\n",
       "      <td>0.0</td>\n",
       "      <td>978</td>\n",
       "      <td>0</td>\n",
       "      <td>284</td>\n",
       "      <td>1262</td>\n",
       "      <td>1262</td>\n",
       "      <td>0</td>\n",
       "      <td>1262</td>\n",
       "      <td>460</td>\n",
       "      <td>298</td>\n",
       "      <td>0</td>\n",
       "      <td>0</td>\n",
       "      <td>0</td>\n",
       "      <td>181500</td>\n",
       "    </tr>\n",
       "    <tr>\n",
       "      <th>2</th>\n",
       "      <td>68.0</td>\n",
       "      <td>11250</td>\n",
       "      <td>162.0</td>\n",
       "      <td>486</td>\n",
       "      <td>0</td>\n",
       "      <td>434</td>\n",
       "      <td>920</td>\n",
       "      <td>920</td>\n",
       "      <td>866</td>\n",
       "      <td>1786</td>\n",
       "      <td>608</td>\n",
       "      <td>0</td>\n",
       "      <td>42</td>\n",
       "      <td>0</td>\n",
       "      <td>0</td>\n",
       "      <td>223500</td>\n",
       "    </tr>\n",
       "    <tr>\n",
       "      <th>3</th>\n",
       "      <td>60.0</td>\n",
       "      <td>9550</td>\n",
       "      <td>0.0</td>\n",
       "      <td>216</td>\n",
       "      <td>0</td>\n",
       "      <td>540</td>\n",
       "      <td>756</td>\n",
       "      <td>961</td>\n",
       "      <td>756</td>\n",
       "      <td>1717</td>\n",
       "      <td>642</td>\n",
       "      <td>0</td>\n",
       "      <td>35</td>\n",
       "      <td>272</td>\n",
       "      <td>0</td>\n",
       "      <td>140000</td>\n",
       "    </tr>\n",
       "    <tr>\n",
       "      <th>4</th>\n",
       "      <td>84.0</td>\n",
       "      <td>14260</td>\n",
       "      <td>350.0</td>\n",
       "      <td>655</td>\n",
       "      <td>0</td>\n",
       "      <td>490</td>\n",
       "      <td>1145</td>\n",
       "      <td>1145</td>\n",
       "      <td>1053</td>\n",
       "      <td>2198</td>\n",
       "      <td>836</td>\n",
       "      <td>192</td>\n",
       "      <td>84</td>\n",
       "      <td>0</td>\n",
       "      <td>0</td>\n",
       "      <td>250000</td>\n",
       "    </tr>\n",
       "  </tbody>\n",
       "</table>\n",
       "</div>"
      ],
      "text/plain": [
       "   LotFrontage  LotArea  MasVnrArea  BsmtFinSF1  BsmtFinSF2  BsmtUnfSF  \\\n",
       "0         65.0     8450       196.0         706           0        150   \n",
       "1         80.0     9600         0.0         978           0        284   \n",
       "2         68.0    11250       162.0         486           0        434   \n",
       "3         60.0     9550         0.0         216           0        540   \n",
       "4         84.0    14260       350.0         655           0        490   \n",
       "\n",
       "   TotalBsmtSF  1stFlrSF  2ndFlrSF  GrLivArea  GarageArea  WoodDeckSF  \\\n",
       "0          856       856       854       1710         548           0   \n",
       "1         1262      1262         0       1262         460         298   \n",
       "2          920       920       866       1786         608           0   \n",
       "3          756       961       756       1717         642           0   \n",
       "4         1145      1145      1053       2198         836         192   \n",
       "\n",
       "   OpenPorchSF  EnclosedPorch  ScreenPorch  SalePrice  \n",
       "0           61              0            0     208500  \n",
       "1            0              0            0     181500  \n",
       "2           42              0            0     223500  \n",
       "3           35            272            0     140000  \n",
       "4           84              0            0     250000  "
      ]
     },
     "execution_count": 7,
     "metadata": {},
     "output_type": "execute_result"
    }
   ],
   "source": [
    "#List of Continuous features\n",
    "cont_features=[feature for feature in numerical_features if data[feature].nunique()>25 and feature not in year_feature+['Id']]\n",
    "print(\"Total continuous variables : \", len(cont_features))\n",
    "data[cont_features].head()"
   ]
  },
  {
   "cell_type": "code",
   "execution_count": 8,
   "id": "unauthorized-correction",
   "metadata": {
    "execution": {
     "iopub.execute_input": "2021-06-09T14:28:07.178988Z",
     "iopub.status.busy": "2021-06-09T14:28:07.178051Z",
     "iopub.status.idle": "2021-06-09T14:28:07.231980Z",
     "shell.execute_reply": "2021-06-09T14:28:07.232680Z",
     "shell.execute_reply.started": "2021-06-09T14:14:47.062712Z"
    },
    "papermill": {
     "duration": 0.096973,
     "end_time": "2021-06-09T14:28:07.232917",
     "exception": false,
     "start_time": "2021-06-09T14:28:07.135944",
     "status": "completed"
    },
    "tags": []
   },
   "outputs": [
    {
     "name": "stdout",
     "output_type": "stream",
     "text": [
      "Total categorical variables :  16\n"
     ]
    },
    {
     "data": {
      "text/html": [
       "<div>\n",
       "<style scoped>\n",
       "    .dataframe tbody tr th:only-of-type {\n",
       "        vertical-align: middle;\n",
       "    }\n",
       "\n",
       "    .dataframe tbody tr th {\n",
       "        vertical-align: top;\n",
       "    }\n",
       "\n",
       "    .dataframe thead th {\n",
       "        text-align: right;\n",
       "    }\n",
       "</style>\n",
       "<table border=\"1\" class=\"dataframe\">\n",
       "  <thead>\n",
       "    <tr style=\"text-align: right;\">\n",
       "      <th></th>\n",
       "      <th>MSZoning</th>\n",
       "      <th>Street</th>\n",
       "      <th>Alley</th>\n",
       "      <th>LotShape</th>\n",
       "      <th>LandContour</th>\n",
       "      <th>Utilities</th>\n",
       "      <th>LotConfig</th>\n",
       "      <th>LandSlope</th>\n",
       "      <th>Neighborhood</th>\n",
       "      <th>Condition1</th>\n",
       "      <th>Condition2</th>\n",
       "      <th>BldgType</th>\n",
       "      <th>HouseStyle</th>\n",
       "      <th>RoofStyle</th>\n",
       "      <th>RoofMatl</th>\n",
       "      <th>Exterior1st</th>\n",
       "      <th>Exterior2nd</th>\n",
       "      <th>MasVnrType</th>\n",
       "      <th>ExterQual</th>\n",
       "      <th>ExterCond</th>\n",
       "      <th>Foundation</th>\n",
       "      <th>BsmtQual</th>\n",
       "      <th>BsmtCond</th>\n",
       "      <th>BsmtExposure</th>\n",
       "      <th>BsmtFinType1</th>\n",
       "      <th>BsmtFinType2</th>\n",
       "      <th>Heating</th>\n",
       "      <th>HeatingQC</th>\n",
       "      <th>CentralAir</th>\n",
       "      <th>Electrical</th>\n",
       "      <th>KitchenQual</th>\n",
       "      <th>Functional</th>\n",
       "      <th>FireplaceQu</th>\n",
       "      <th>GarageType</th>\n",
       "      <th>GarageFinish</th>\n",
       "      <th>GarageQual</th>\n",
       "      <th>GarageCond</th>\n",
       "      <th>PavedDrive</th>\n",
       "      <th>PoolQC</th>\n",
       "      <th>Fence</th>\n",
       "      <th>MiscFeature</th>\n",
       "      <th>SaleType</th>\n",
       "      <th>SaleCondition</th>\n",
       "    </tr>\n",
       "  </thead>\n",
       "  <tbody>\n",
       "    <tr>\n",
       "      <th>0</th>\n",
       "      <td>RL</td>\n",
       "      <td>Pave</td>\n",
       "      <td>NaN</td>\n",
       "      <td>Reg</td>\n",
       "      <td>Lvl</td>\n",
       "      <td>AllPub</td>\n",
       "      <td>Inside</td>\n",
       "      <td>Gtl</td>\n",
       "      <td>CollgCr</td>\n",
       "      <td>Norm</td>\n",
       "      <td>Norm</td>\n",
       "      <td>1Fam</td>\n",
       "      <td>2Story</td>\n",
       "      <td>Gable</td>\n",
       "      <td>CompShg</td>\n",
       "      <td>VinylSd</td>\n",
       "      <td>VinylSd</td>\n",
       "      <td>BrkFace</td>\n",
       "      <td>Gd</td>\n",
       "      <td>TA</td>\n",
       "      <td>PConc</td>\n",
       "      <td>Gd</td>\n",
       "      <td>TA</td>\n",
       "      <td>No</td>\n",
       "      <td>GLQ</td>\n",
       "      <td>Unf</td>\n",
       "      <td>GasA</td>\n",
       "      <td>Ex</td>\n",
       "      <td>Y</td>\n",
       "      <td>SBrkr</td>\n",
       "      <td>Gd</td>\n",
       "      <td>Typ</td>\n",
       "      <td>NaN</td>\n",
       "      <td>Attchd</td>\n",
       "      <td>RFn</td>\n",
       "      <td>TA</td>\n",
       "      <td>TA</td>\n",
       "      <td>Y</td>\n",
       "      <td>NaN</td>\n",
       "      <td>NaN</td>\n",
       "      <td>NaN</td>\n",
       "      <td>WD</td>\n",
       "      <td>Normal</td>\n",
       "    </tr>\n",
       "    <tr>\n",
       "      <th>1</th>\n",
       "      <td>RL</td>\n",
       "      <td>Pave</td>\n",
       "      <td>NaN</td>\n",
       "      <td>Reg</td>\n",
       "      <td>Lvl</td>\n",
       "      <td>AllPub</td>\n",
       "      <td>FR2</td>\n",
       "      <td>Gtl</td>\n",
       "      <td>Veenker</td>\n",
       "      <td>Feedr</td>\n",
       "      <td>Norm</td>\n",
       "      <td>1Fam</td>\n",
       "      <td>1Story</td>\n",
       "      <td>Gable</td>\n",
       "      <td>CompShg</td>\n",
       "      <td>MetalSd</td>\n",
       "      <td>MetalSd</td>\n",
       "      <td>None</td>\n",
       "      <td>TA</td>\n",
       "      <td>TA</td>\n",
       "      <td>CBlock</td>\n",
       "      <td>Gd</td>\n",
       "      <td>TA</td>\n",
       "      <td>Gd</td>\n",
       "      <td>ALQ</td>\n",
       "      <td>Unf</td>\n",
       "      <td>GasA</td>\n",
       "      <td>Ex</td>\n",
       "      <td>Y</td>\n",
       "      <td>SBrkr</td>\n",
       "      <td>TA</td>\n",
       "      <td>Typ</td>\n",
       "      <td>TA</td>\n",
       "      <td>Attchd</td>\n",
       "      <td>RFn</td>\n",
       "      <td>TA</td>\n",
       "      <td>TA</td>\n",
       "      <td>Y</td>\n",
       "      <td>NaN</td>\n",
       "      <td>NaN</td>\n",
       "      <td>NaN</td>\n",
       "      <td>WD</td>\n",
       "      <td>Normal</td>\n",
       "    </tr>\n",
       "    <tr>\n",
       "      <th>2</th>\n",
       "      <td>RL</td>\n",
       "      <td>Pave</td>\n",
       "      <td>NaN</td>\n",
       "      <td>IR1</td>\n",
       "      <td>Lvl</td>\n",
       "      <td>AllPub</td>\n",
       "      <td>Inside</td>\n",
       "      <td>Gtl</td>\n",
       "      <td>CollgCr</td>\n",
       "      <td>Norm</td>\n",
       "      <td>Norm</td>\n",
       "      <td>1Fam</td>\n",
       "      <td>2Story</td>\n",
       "      <td>Gable</td>\n",
       "      <td>CompShg</td>\n",
       "      <td>VinylSd</td>\n",
       "      <td>VinylSd</td>\n",
       "      <td>BrkFace</td>\n",
       "      <td>Gd</td>\n",
       "      <td>TA</td>\n",
       "      <td>PConc</td>\n",
       "      <td>Gd</td>\n",
       "      <td>TA</td>\n",
       "      <td>Mn</td>\n",
       "      <td>GLQ</td>\n",
       "      <td>Unf</td>\n",
       "      <td>GasA</td>\n",
       "      <td>Ex</td>\n",
       "      <td>Y</td>\n",
       "      <td>SBrkr</td>\n",
       "      <td>Gd</td>\n",
       "      <td>Typ</td>\n",
       "      <td>TA</td>\n",
       "      <td>Attchd</td>\n",
       "      <td>RFn</td>\n",
       "      <td>TA</td>\n",
       "      <td>TA</td>\n",
       "      <td>Y</td>\n",
       "      <td>NaN</td>\n",
       "      <td>NaN</td>\n",
       "      <td>NaN</td>\n",
       "      <td>WD</td>\n",
       "      <td>Normal</td>\n",
       "    </tr>\n",
       "    <tr>\n",
       "      <th>3</th>\n",
       "      <td>RL</td>\n",
       "      <td>Pave</td>\n",
       "      <td>NaN</td>\n",
       "      <td>IR1</td>\n",
       "      <td>Lvl</td>\n",
       "      <td>AllPub</td>\n",
       "      <td>Corner</td>\n",
       "      <td>Gtl</td>\n",
       "      <td>Crawfor</td>\n",
       "      <td>Norm</td>\n",
       "      <td>Norm</td>\n",
       "      <td>1Fam</td>\n",
       "      <td>2Story</td>\n",
       "      <td>Gable</td>\n",
       "      <td>CompShg</td>\n",
       "      <td>Wd Sdng</td>\n",
       "      <td>Wd Shng</td>\n",
       "      <td>None</td>\n",
       "      <td>TA</td>\n",
       "      <td>TA</td>\n",
       "      <td>BrkTil</td>\n",
       "      <td>TA</td>\n",
       "      <td>Gd</td>\n",
       "      <td>No</td>\n",
       "      <td>ALQ</td>\n",
       "      <td>Unf</td>\n",
       "      <td>GasA</td>\n",
       "      <td>Gd</td>\n",
       "      <td>Y</td>\n",
       "      <td>SBrkr</td>\n",
       "      <td>Gd</td>\n",
       "      <td>Typ</td>\n",
       "      <td>Gd</td>\n",
       "      <td>Detchd</td>\n",
       "      <td>Unf</td>\n",
       "      <td>TA</td>\n",
       "      <td>TA</td>\n",
       "      <td>Y</td>\n",
       "      <td>NaN</td>\n",
       "      <td>NaN</td>\n",
       "      <td>NaN</td>\n",
       "      <td>WD</td>\n",
       "      <td>Abnorml</td>\n",
       "    </tr>\n",
       "    <tr>\n",
       "      <th>4</th>\n",
       "      <td>RL</td>\n",
       "      <td>Pave</td>\n",
       "      <td>NaN</td>\n",
       "      <td>IR1</td>\n",
       "      <td>Lvl</td>\n",
       "      <td>AllPub</td>\n",
       "      <td>FR2</td>\n",
       "      <td>Gtl</td>\n",
       "      <td>NoRidge</td>\n",
       "      <td>Norm</td>\n",
       "      <td>Norm</td>\n",
       "      <td>1Fam</td>\n",
       "      <td>2Story</td>\n",
       "      <td>Gable</td>\n",
       "      <td>CompShg</td>\n",
       "      <td>VinylSd</td>\n",
       "      <td>VinylSd</td>\n",
       "      <td>BrkFace</td>\n",
       "      <td>Gd</td>\n",
       "      <td>TA</td>\n",
       "      <td>PConc</td>\n",
       "      <td>Gd</td>\n",
       "      <td>TA</td>\n",
       "      <td>Av</td>\n",
       "      <td>GLQ</td>\n",
       "      <td>Unf</td>\n",
       "      <td>GasA</td>\n",
       "      <td>Ex</td>\n",
       "      <td>Y</td>\n",
       "      <td>SBrkr</td>\n",
       "      <td>Gd</td>\n",
       "      <td>Typ</td>\n",
       "      <td>TA</td>\n",
       "      <td>Attchd</td>\n",
       "      <td>RFn</td>\n",
       "      <td>TA</td>\n",
       "      <td>TA</td>\n",
       "      <td>Y</td>\n",
       "      <td>NaN</td>\n",
       "      <td>NaN</td>\n",
       "      <td>NaN</td>\n",
       "      <td>WD</td>\n",
       "      <td>Normal</td>\n",
       "    </tr>\n",
       "  </tbody>\n",
       "</table>\n",
       "</div>"
      ],
      "text/plain": [
       "  MSZoning Street Alley LotShape LandContour Utilities LotConfig LandSlope  \\\n",
       "0       RL   Pave   NaN      Reg         Lvl    AllPub    Inside       Gtl   \n",
       "1       RL   Pave   NaN      Reg         Lvl    AllPub       FR2       Gtl   \n",
       "2       RL   Pave   NaN      IR1         Lvl    AllPub    Inside       Gtl   \n",
       "3       RL   Pave   NaN      IR1         Lvl    AllPub    Corner       Gtl   \n",
       "4       RL   Pave   NaN      IR1         Lvl    AllPub       FR2       Gtl   \n",
       "\n",
       "  Neighborhood Condition1 Condition2 BldgType HouseStyle RoofStyle RoofMatl  \\\n",
       "0      CollgCr       Norm       Norm     1Fam     2Story     Gable  CompShg   \n",
       "1      Veenker      Feedr       Norm     1Fam     1Story     Gable  CompShg   \n",
       "2      CollgCr       Norm       Norm     1Fam     2Story     Gable  CompShg   \n",
       "3      Crawfor       Norm       Norm     1Fam     2Story     Gable  CompShg   \n",
       "4      NoRidge       Norm       Norm     1Fam     2Story     Gable  CompShg   \n",
       "\n",
       "  Exterior1st Exterior2nd MasVnrType ExterQual ExterCond Foundation BsmtQual  \\\n",
       "0     VinylSd     VinylSd    BrkFace        Gd        TA      PConc       Gd   \n",
       "1     MetalSd     MetalSd       None        TA        TA     CBlock       Gd   \n",
       "2     VinylSd     VinylSd    BrkFace        Gd        TA      PConc       Gd   \n",
       "3     Wd Sdng     Wd Shng       None        TA        TA     BrkTil       TA   \n",
       "4     VinylSd     VinylSd    BrkFace        Gd        TA      PConc       Gd   \n",
       "\n",
       "  BsmtCond BsmtExposure BsmtFinType1 BsmtFinType2 Heating HeatingQC  \\\n",
       "0       TA           No          GLQ          Unf    GasA        Ex   \n",
       "1       TA           Gd          ALQ          Unf    GasA        Ex   \n",
       "2       TA           Mn          GLQ          Unf    GasA        Ex   \n",
       "3       Gd           No          ALQ          Unf    GasA        Gd   \n",
       "4       TA           Av          GLQ          Unf    GasA        Ex   \n",
       "\n",
       "  CentralAir Electrical KitchenQual Functional FireplaceQu GarageType  \\\n",
       "0          Y      SBrkr          Gd        Typ         NaN     Attchd   \n",
       "1          Y      SBrkr          TA        Typ          TA     Attchd   \n",
       "2          Y      SBrkr          Gd        Typ          TA     Attchd   \n",
       "3          Y      SBrkr          Gd        Typ          Gd     Detchd   \n",
       "4          Y      SBrkr          Gd        Typ          TA     Attchd   \n",
       "\n",
       "  GarageFinish GarageQual GarageCond PavedDrive PoolQC Fence MiscFeature  \\\n",
       "0          RFn         TA         TA          Y    NaN   NaN         NaN   \n",
       "1          RFn         TA         TA          Y    NaN   NaN         NaN   \n",
       "2          RFn         TA         TA          Y    NaN   NaN         NaN   \n",
       "3          Unf         TA         TA          Y    NaN   NaN         NaN   \n",
       "4          RFn         TA         TA          Y    NaN   NaN         NaN   \n",
       "\n",
       "  SaleType SaleCondition  \n",
       "0       WD        Normal  \n",
       "1       WD        Normal  \n",
       "2       WD        Normal  \n",
       "3       WD       Abnorml  \n",
       "4       WD        Normal  "
      ]
     },
     "execution_count": 8,
     "metadata": {},
     "output_type": "execute_result"
    }
   ],
   "source": [
    "#List of Categorical features\n",
    "catg_features = [feature for feature in data.columns if data[feature].dtypes == 'O']\n",
    "print(\"Total categorical variables : \", len(cont_features))\n",
    "data[catg_features].head()"
   ]
  },
  {
   "cell_type": "markdown",
   "id": "assured-queue",
   "metadata": {
    "papermill": {
     "duration": 0.026688,
     "end_time": "2021-06-09T14:28:07.290462",
     "exception": false,
     "start_time": "2021-06-09T14:28:07.263774",
     "status": "completed"
    },
    "tags": []
   },
   "source": [
    "***\n",
    "## *** FEATURE ENGINEERING ***\n",
    "***"
   ]
  },
  {
   "cell_type": "markdown",
   "id": "whole-memphis",
   "metadata": {
    "papermill": {
     "duration": 0.026567,
     "end_time": "2021-06-09T14:28:07.344205",
     "exception": false,
     "start_time": "2021-06-09T14:28:07.317638",
     "status": "completed"
    },
    "tags": []
   },
   "source": [
    "### **`Handling Missing Values`**"
   ]
  },
  {
   "cell_type": "code",
   "execution_count": 9,
   "id": "republican-reservation",
   "metadata": {
    "execution": {
     "iopub.execute_input": "2021-06-09T14:28:07.459178Z",
     "iopub.status.busy": "2021-06-09T14:28:07.417484Z",
     "iopub.status.idle": "2021-06-09T14:28:07.475071Z",
     "shell.execute_reply": "2021-06-09T14:28:07.474431Z",
     "shell.execute_reply.started": "2021-06-09T14:14:47.11922Z"
    },
    "papermill": {
     "duration": 0.102837,
     "end_time": "2021-06-09T14:28:07.475232",
     "exception": false,
     "start_time": "2021-06-09T14:28:07.372395",
     "status": "completed"
    },
    "tags": []
   },
   "outputs": [],
   "source": [
    "#Replacing NaN values in CATEGORICAL features with new label 'Missing'\n",
    "catg_features_nan = [feature for feature in data.columns if data[feature].isnull().sum()>1 and data[feature].dtypes == 'O']\n",
    "catg_features_nan_test = [feature for feature in test.columns if test[feature].isnull().sum()>1 and test[feature].dtypes == 'O']\n",
    "\n",
    "def replace_nan(dataset, feature):\n",
    "    dataset[feature] = dataset[feature].fillna('Missing')\n",
    "    \n",
    "replace_nan(data, catg_features_nan)\n",
    "replace_nan(test, catg_features_nan_test)"
   ]
  },
  {
   "cell_type": "code",
   "execution_count": 10,
   "id": "historic-delight",
   "metadata": {
    "execution": {
     "iopub.execute_input": "2021-06-09T14:28:07.594784Z",
     "iopub.status.busy": "2021-06-09T14:28:07.594053Z",
     "iopub.status.idle": "2021-06-09T14:28:07.608321Z",
     "shell.execute_reply": "2021-06-09T14:28:07.608824Z",
     "shell.execute_reply.started": "2021-06-09T14:14:47.190556Z"
    },
    "papermill": {
     "duration": 0.106575,
     "end_time": "2021-06-09T14:28:07.608992",
     "exception": false,
     "start_time": "2021-06-09T14:28:07.502417",
     "status": "completed"
    },
    "tags": []
   },
   "outputs": [],
   "source": [
    "#Replacing NaN values in NUMERICAL features with median\n",
    "num_features_nan = [feature for feature in data.columns if data[feature].isnull().sum()>1 and data[feature].dtypes != 'O']\n",
    "num_features_nan_test = [feature for feature in test.columns if test[feature].isnull().sum()>1 and test[feature].dtypes != 'O']\n",
    "\n",
    "#data\n",
    "for feature in num_features_nan:\n",
    "    median = data[feature].median()\n",
    "    data[feature+'_nan'] = np.where(data[feature].isnull(), 1, 0)\n",
    "    data[feature].fillna(median, inplace = True)\n",
    "    \n",
    "#test\n",
    "for feature in num_features_nan_test:\n",
    "    median = test[feature].median()\n",
    "    test[feature+'_nan'] = np.where(test[feature].isnull(), 1, 0)\n",
    "    test[feature].fillna(median, inplace = True)"
   ]
  },
  {
   "cell_type": "markdown",
   "id": "hazardous-front",
   "metadata": {
    "papermill": {
     "duration": 0.027052,
     "end_time": "2021-06-09T14:28:07.662857",
     "exception": false,
     "start_time": "2021-06-09T14:28:07.635805",
     "status": "completed"
    },
    "tags": []
   },
   "source": [
    "### **`Temporal features`**"
   ]
  },
  {
   "cell_type": "code",
   "execution_count": 11,
   "id": "israeli-ottawa",
   "metadata": {
    "execution": {
     "iopub.execute_input": "2021-06-09T14:28:07.720810Z",
     "iopub.status.busy": "2021-06-09T14:28:07.719785Z",
     "iopub.status.idle": "2021-06-09T14:28:07.741945Z",
     "shell.execute_reply": "2021-06-09T14:28:07.742459Z",
     "shell.execute_reply.started": "2021-06-09T14:14:47.271936Z"
    },
    "papermill": {
     "duration": 0.052679,
     "end_time": "2021-06-09T14:28:07.742646",
     "exception": false,
     "start_time": "2021-06-09T14:28:07.689967",
     "status": "completed"
    },
    "tags": []
   },
   "outputs": [],
   "source": [
    "#Converting the 'year' value to 'total number of years'\n",
    "\n",
    "for feature in ['YearBuilt','YearRemodAdd','GarageYrBlt']:\n",
    "    data[feature]=data['YrSold']-data[feature]\n",
    "    test[feature]=test['YrSold']-test[feature]"
   ]
  },
  {
   "cell_type": "markdown",
   "id": "scheduled-contribution",
   "metadata": {
    "papermill": {
     "duration": 0.026664,
     "end_time": "2021-06-09T14:28:07.796301",
     "exception": false,
     "start_time": "2021-06-09T14:28:07.769637",
     "status": "completed"
    },
    "tags": []
   },
   "source": [
    "### **`Log transformation of skewed continuous numerical features`**"
   ]
  },
  {
   "cell_type": "code",
   "execution_count": 12,
   "id": "challenging-priest",
   "metadata": {
    "execution": {
     "iopub.execute_input": "2021-06-09T14:28:07.854678Z",
     "iopub.status.busy": "2021-06-09T14:28:07.853741Z",
     "iopub.status.idle": "2021-06-09T14:28:07.863236Z",
     "shell.execute_reply": "2021-06-09T14:28:07.863747Z",
     "shell.execute_reply.started": "2021-06-09T14:14:47.284449Z"
    },
    "papermill": {
     "duration": 0.039957,
     "end_time": "2021-06-09T14:28:07.863914",
     "exception": false,
     "start_time": "2021-06-09T14:28:07.823957",
     "status": "completed"
    },
    "tags": []
   },
   "outputs": [],
   "source": [
    "for feature in ['LotFrontage', 'LotArea', '1stFlrSF', 'GrLivArea']:\n",
    "    data[feature] = np.log(data[feature])\n",
    "    \n",
    "for feature in ['LotFrontage', 'LotArea', '1stFlrSF', 'GrLivArea']:\n",
    "    test[feature] = np.log(test[feature])"
   ]
  },
  {
   "cell_type": "markdown",
   "id": "assumed-parts",
   "metadata": {
    "papermill": {
     "duration": 0.026571,
     "end_time": "2021-06-09T14:28:07.917366",
     "exception": false,
     "start_time": "2021-06-09T14:28:07.890795",
     "status": "completed"
    },
    "tags": []
   },
   "source": [
    "### **`Handling Rare categories in categorical features`**"
   ]
  },
  {
   "cell_type": "code",
   "execution_count": 13,
   "id": "level-oakland",
   "metadata": {
    "execution": {
     "iopub.execute_input": "2021-06-09T14:28:07.974484Z",
     "iopub.status.busy": "2021-06-09T14:28:07.973572Z",
     "iopub.status.idle": "2021-06-09T14:28:08.076354Z",
     "shell.execute_reply": "2021-06-09T14:28:08.076871Z",
     "shell.execute_reply.started": "2021-06-09T14:14:47.298222Z"
    },
    "papermill": {
     "duration": 0.132714,
     "end_time": "2021-06-09T14:28:08.077040",
     "exception": false,
     "start_time": "2021-06-09T14:28:07.944326",
     "status": "completed"
    },
    "tags": []
   },
   "outputs": [],
   "source": [
    "for feature in catg_features:\n",
    "    temp=data.groupby(feature)['SalePrice'].count()/len(data)\n",
    "    temp_df=temp[temp>0.01].index\n",
    "    data[feature]=np.where(data[feature].isin(temp_df),data[feature],'rare_variables')\n",
    "    test[feature]=np.where(test[feature].isin(temp_df),test[feature],'rare_variables')"
   ]
  },
  {
   "cell_type": "markdown",
   "id": "sensitive-heather",
   "metadata": {
    "papermill": {
     "duration": 0.026473,
     "end_time": "2021-06-09T14:28:08.130352",
     "exception": false,
     "start_time": "2021-06-09T14:28:08.103879",
     "status": "completed"
    },
    "tags": []
   },
   "source": [
    "### **`Encoding categorical features`**"
   ]
  },
  {
   "cell_type": "code",
   "execution_count": 14,
   "id": "impossible-switch",
   "metadata": {
    "execution": {
     "iopub.execute_input": "2021-06-09T14:28:08.192469Z",
     "iopub.status.busy": "2021-06-09T14:28:08.191401Z",
     "iopub.status.idle": "2021-06-09T14:28:08.368700Z",
     "shell.execute_reply": "2021-06-09T14:28:08.369257Z",
     "shell.execute_reply.started": "2021-06-09T14:14:47.409187Z"
    },
    "papermill": {
     "duration": 0.212216,
     "end_time": "2021-06-09T14:28:08.369457",
     "exception": false,
     "start_time": "2021-06-09T14:28:08.157241",
     "status": "completed"
    },
    "tags": []
   },
   "outputs": [],
   "source": [
    "for feature in catg_features:\n",
    "    labels_ordered=data.groupby([feature])['SalePrice'].mean().sort_values().index\n",
    "    labels_ordered={k:i for i,k in enumerate(labels_ordered,0)}\n",
    "    data[feature]=data[feature].map(labels_ordered)\n",
    "    test[feature]=test[feature].map(labels_ordered)"
   ]
  },
  {
   "cell_type": "markdown",
   "id": "wound-disposal",
   "metadata": {
    "papermill": {
     "duration": 0.02639,
     "end_time": "2021-06-09T14:28:08.423690",
     "exception": false,
     "start_time": "2021-06-09T14:28:08.397300",
     "status": "completed"
    },
    "tags": []
   },
   "source": [
    "***\n",
    "## *** FEATURE SCALING ***\n",
    "***"
   ]
  },
  {
   "cell_type": "code",
   "execution_count": 15,
   "id": "conventional-johnson",
   "metadata": {
    "execution": {
     "iopub.execute_input": "2021-06-09T14:28:08.480382Z",
     "iopub.status.busy": "2021-06-09T14:28:08.479766Z",
     "iopub.status.idle": "2021-06-09T14:28:08.650120Z",
     "shell.execute_reply": "2021-06-09T14:28:08.649534Z",
     "shell.execute_reply.started": "2021-06-09T14:14:47.617891Z"
    },
    "papermill": {
     "duration": 0.199531,
     "end_time": "2021-06-09T14:28:08.650278",
     "exception": false,
     "start_time": "2021-06-09T14:28:08.450747",
     "status": "completed"
    },
    "tags": []
   },
   "outputs": [
    {
     "data": {
      "text/plain": [
       "MinMaxScaler()"
      ]
     },
     "execution_count": 15,
     "metadata": {},
     "output_type": "execute_result"
    }
   ],
   "source": [
    "features_to_scale=[feature for feature in data.columns if feature not in ['Id','SalePrice']]\n",
    "\n",
    "from sklearn.preprocessing import MinMaxScaler\n",
    "scaler=MinMaxScaler()\n",
    "scaler.fit(data[features_to_scale])\n",
    "scaler.fit(test[features_to_scale])"
   ]
  },
  {
   "cell_type": "code",
   "execution_count": 16,
   "id": "administrative-sentence",
   "metadata": {
    "execution": {
     "iopub.execute_input": "2021-06-09T14:28:08.716169Z",
     "iopub.status.busy": "2021-06-09T14:28:08.715488Z",
     "iopub.status.idle": "2021-06-09T14:28:08.727130Z",
     "shell.execute_reply": "2021-06-09T14:28:08.727664Z",
     "shell.execute_reply.started": "2021-06-09T14:14:47.644299Z"
    },
    "papermill": {
     "duration": 0.050022,
     "end_time": "2021-06-09T14:28:08.727838",
     "exception": false,
     "start_time": "2021-06-09T14:28:08.677816",
     "status": "completed"
    },
    "tags": []
   },
   "outputs": [],
   "source": [
    "data = pd.concat([data[['Id', 'SalePrice']].reset_index(drop=True),\n",
    "                    pd.DataFrame(scaler.transform(data[features_to_scale]), columns=features_to_scale)],\n",
    "                    axis=1)\n",
    "test = pd.concat([test[['Id']].reset_index(drop=True),\n",
    "                    pd.DataFrame(scaler.transform(test[features_to_scale]), columns=features_to_scale)],\n",
    "                    axis=1)"
   ]
  },
  {
   "cell_type": "markdown",
   "id": "expired-spokesman",
   "metadata": {
    "execution": {
     "iopub.execute_input": "2021-06-09T12:12:21.039447Z",
     "iopub.status.busy": "2021-06-09T12:12:21.038927Z",
     "iopub.status.idle": "2021-06-09T12:12:21.04432Z",
     "shell.execute_reply": "2021-06-09T12:12:21.043189Z",
     "shell.execute_reply.started": "2021-06-09T12:12:21.039414Z"
    },
    "papermill": {
     "duration": 0.026858,
     "end_time": "2021-06-09T14:28:08.781859",
     "exception": false,
     "start_time": "2021-06-09T14:28:08.755001",
     "status": "completed"
    },
    "tags": []
   },
   "source": [
    "***\n",
    "## *** Model building and training ***\n",
    "***"
   ]
  },
  {
   "cell_type": "code",
   "execution_count": 17,
   "id": "directed-assist",
   "metadata": {
    "execution": {
     "iopub.execute_input": "2021-06-09T14:28:08.839165Z",
     "iopub.status.busy": "2021-06-09T14:28:08.838527Z",
     "iopub.status.idle": "2021-06-09T14:28:09.184691Z",
     "shell.execute_reply": "2021-06-09T14:28:09.183456Z",
     "shell.execute_reply.started": "2021-06-09T14:14:47.669379Z"
    },
    "papermill": {
     "duration": 0.375885,
     "end_time": "2021-06-09T14:28:09.184839",
     "exception": false,
     "start_time": "2021-06-09T14:28:08.808954",
     "status": "completed"
    },
    "tags": []
   },
   "outputs": [],
   "source": [
    "from sklearn.model_selection import train_test_split\n",
    "from sklearn.ensemble import RandomForestRegressor\n",
    "from sklearn.metrics import r2_score\n",
    "\n",
    "X = data.drop(['Id', 'SalePrice'], axis = 1)\n",
    "y = data['SalePrice']\n",
    "\n",
    "for feature in test.columns:\n",
    "    test[feature].fillna(test[feature].mean(), inplace = True)"
   ]
  },
  {
   "cell_type": "code",
   "execution_count": 18,
   "id": "executed-sandwich",
   "metadata": {
    "execution": {
     "iopub.execute_input": "2021-06-09T14:28:09.248453Z",
     "iopub.status.busy": "2021-06-09T14:28:09.245852Z",
     "iopub.status.idle": "2021-06-09T14:28:10.769165Z",
     "shell.execute_reply": "2021-06-09T14:28:10.769637Z",
     "shell.execute_reply.started": "2021-06-09T14:14:47.709327Z"
    },
    "papermill": {
     "duration": 1.557038,
     "end_time": "2021-06-09T14:28:10.769862",
     "exception": false,
     "start_time": "2021-06-09T14:28:09.212824",
     "status": "completed"
    },
    "tags": []
   },
   "outputs": [
    {
     "data": {
      "text/plain": [
       "RandomForestRegressor()"
      ]
     },
     "execution_count": 18,
     "metadata": {},
     "output_type": "execute_result"
    }
   ],
   "source": [
    "X_train, X_test, y_train, y_test = train_test_split(X, y, test_size=0.33, random_state=42)\n",
    "\n",
    "clf = RandomForestRegressor()\n",
    "clf.fit(X_train, y_train)"
   ]
  },
  {
   "cell_type": "code",
   "execution_count": 19,
   "id": "stuck-wrapping",
   "metadata": {
    "execution": {
     "iopub.execute_input": "2021-06-09T14:28:10.830367Z",
     "iopub.status.busy": "2021-06-09T14:28:10.829401Z",
     "iopub.status.idle": "2021-06-09T14:28:10.858518Z",
     "shell.execute_reply": "2021-06-09T14:28:10.859016Z",
     "shell.execute_reply.started": "2021-06-09T14:14:49.217694Z"
    },
    "papermill": {
     "duration": 0.061524,
     "end_time": "2021-06-09T14:28:10.859232",
     "exception": false,
     "start_time": "2021-06-09T14:28:10.797708",
     "status": "completed"
    },
    "tags": []
   },
   "outputs": [
    {
     "data": {
      "text/plain": [
       "0.8273459126308822"
      ]
     },
     "execution_count": 19,
     "metadata": {},
     "output_type": "execute_result"
    }
   ],
   "source": [
    "#Prediction\n",
    "y_pred = clf.predict(X_test)\n",
    "\n",
    "accuracy =  r2_score(y_pred, y_test)\n",
    "accuracy"
   ]
  },
  {
   "cell_type": "code",
   "execution_count": 20,
   "id": "removed-weekend",
   "metadata": {
    "execution": {
     "iopub.execute_input": "2021-06-09T14:28:10.928316Z",
     "iopub.status.busy": "2021-06-09T14:28:10.927332Z",
     "iopub.status.idle": "2021-06-09T14:28:10.970570Z",
     "shell.execute_reply": "2021-06-09T14:28:10.969989Z",
     "shell.execute_reply.started": "2021-06-09T14:14:49.247792Z"
    },
    "papermill": {
     "duration": 0.080294,
     "end_time": "2021-06-09T14:28:10.970710",
     "exception": false,
     "start_time": "2021-06-09T14:28:10.890416",
     "status": "completed"
    },
    "tags": []
   },
   "outputs": [],
   "source": [
    "#Submission\n",
    "test_pred = clf.predict(test.drop('Id', axis = 1))\n",
    "submission = pd.DataFrame({'Id': test.Id, 'SalePrice': test_pred})\n",
    "submission.to_csv('submission.csv', index=False)"
   ]
  },
  {
   "cell_type": "code",
   "execution_count": null,
   "id": "elementary-buyer",
   "metadata": {
    "papermill": {
     "duration": 0.034338,
     "end_time": "2021-06-09T14:28:11.034288",
     "exception": false,
     "start_time": "2021-06-09T14:28:10.999950",
     "status": "completed"
    },
    "tags": []
   },
   "outputs": [],
   "source": []
  }
 ],
 "metadata": {
  "kernelspec": {
   "display_name": "Python 3",
   "language": "python",
   "name": "python3"
  },
  "language_info": {
   "codemirror_mode": {
    "name": "ipython",
    "version": 3
   },
   "file_extension": ".py",
   "mimetype": "text/x-python",
   "name": "python",
   "nbconvert_exporter": "python",
   "pygments_lexer": "ipython3",
   "version": "3.7.10"
  },
  "papermill": {
   "default_parameters": {},
   "duration": 14.821286,
   "end_time": "2021-06-09T14:28:12.384698",
   "environment_variables": {},
   "exception": null,
   "input_path": "__notebook__.ipynb",
   "output_path": "__notebook__.ipynb",
   "parameters": {},
   "start_time": "2021-06-09T14:27:57.563412",
   "version": "2.3.3"
  }
 },
 "nbformat": 4,
 "nbformat_minor": 5
}
